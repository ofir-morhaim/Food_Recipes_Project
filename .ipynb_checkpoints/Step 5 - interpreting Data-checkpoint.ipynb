{
 "cells": [
  {
   "cell_type": "code",
   "execution_count": 1,
   "metadata": {},
   "outputs": [],
   "source": [
    "import pandas as pd\n",
    "from sklearn import tree,metrics\n",
    "from sklearn.metrics import accuracy_score\n",
    "from sklearn.cluster import KMeans, AgglomerativeClustering\n",
    "from sklearn.preprocessing import scale\n",
    "from sklearn.model_selection import train_test_split\n",
    "from sklearn.ensemble import RandomForestClassifier\n",
    "from sklearn.neighbors import KNeighborsClassifier\n",
    "from sklearn.tree import DecisionTreeClassifier\n",
    "from IPython.display import Image"
   ]
  },
  {
   "cell_type": "code",
   "execution_count": 2,
   "metadata": {},
   "outputs": [
    {
     "ename": "FileNotFoundError",
     "evalue": "[Errno 2] No such file or directory: 'Final_clean_rare_stones_datasSet.csv'",
     "output_type": "error",
     "traceback": [
      "\u001b[1;31m---------------------------------------------------------------------------\u001b[0m",
      "\u001b[1;31mFileNotFoundError\u001b[0m                         Traceback (most recent call last)",
      "\u001b[1;32m<ipython-input-2-af8821697be5>\u001b[0m in \u001b[0;36m<module>\u001b[1;34m\u001b[0m\n\u001b[1;32m----> 1\u001b[1;33m \u001b[0mrare_dataSet\u001b[0m\u001b[1;33m=\u001b[0m \u001b[0mpd\u001b[0m\u001b[1;33m.\u001b[0m\u001b[0mread_csv\u001b[0m\u001b[1;33m(\u001b[0m\u001b[1;34m\"Final_clean_rare_stones_datasSet.csv\"\u001b[0m\u001b[1;33m,\u001b[0m\u001b[0mindex_col\u001b[0m\u001b[1;33m=\u001b[0m\u001b[1;36m0\u001b[0m\u001b[1;33m)\u001b[0m\u001b[1;33m\u001b[0m\u001b[1;33m\u001b[0m\u001b[0m\n\u001b[0m\u001b[0;32m      2\u001b[0m \u001b[1;31m# rare_df = pd.read_csv(\"Final_clean_rare_stones.csv\",index_col=0)\u001b[0m\u001b[1;33m\u001b[0m\u001b[1;33m\u001b[0m\u001b[1;33m\u001b[0m\u001b[0m\n\u001b[0;32m      3\u001b[0m \u001b[0mClimate_df\u001b[0m\u001b[1;33m=\u001b[0m\u001b[0mpd\u001b[0m\u001b[1;33m.\u001b[0m\u001b[0mread_csv\u001b[0m\u001b[1;33m(\u001b[0m\u001b[1;34m\"Climate_dictionary.csv\"\u001b[0m\u001b[1;33m,\u001b[0m\u001b[0mindex_col\u001b[0m\u001b[1;33m=\u001b[0m\u001b[1;36m0\u001b[0m\u001b[1;33m)\u001b[0m\u001b[1;33m\u001b[0m\u001b[1;33m\u001b[0m\u001b[0m\n\u001b[0;32m      4\u001b[0m \u001b[0mGroup_dict_df\u001b[0m \u001b[1;33m=\u001b[0m \u001b[0mpd\u001b[0m\u001b[1;33m.\u001b[0m\u001b[0mread_csv\u001b[0m\u001b[1;33m(\u001b[0m\u001b[1;34m\"Groups_dictionary.csv\"\u001b[0m\u001b[1;33m,\u001b[0m\u001b[0mindex_col\u001b[0m\u001b[1;33m=\u001b[0m\u001b[1;36m0\u001b[0m\u001b[1;33m)\u001b[0m\u001b[1;33m\u001b[0m\u001b[1;33m\u001b[0m\u001b[0m\n\u001b[0;32m      5\u001b[0m \u001b[0mdataset_df\u001b[0m \u001b[1;33m=\u001b[0m \u001b[0mpd\u001b[0m\u001b[1;33m.\u001b[0m\u001b[0mread_csv\u001b[0m\u001b[1;33m(\u001b[0m\u001b[1;34m\"Final_clean_dataSet111.csv\"\u001b[0m\u001b[1;33m,\u001b[0m\u001b[0mindex_col\u001b[0m\u001b[1;33m=\u001b[0m\u001b[1;36m0\u001b[0m\u001b[1;33m)\u001b[0m\u001b[1;33m\u001b[0m\u001b[1;33m\u001b[0m\u001b[0m\n",
      "\u001b[1;32m~\\Anaconda3\\lib\\site-packages\\pandas\\io\\parsers.py\u001b[0m in \u001b[0;36mread_csv\u001b[1;34m(filepath_or_buffer, sep, delimiter, header, names, index_col, usecols, squeeze, prefix, mangle_dupe_cols, dtype, engine, converters, true_values, false_values, skipinitialspace, skiprows, skipfooter, nrows, na_values, keep_default_na, na_filter, verbose, skip_blank_lines, parse_dates, infer_datetime_format, keep_date_col, date_parser, dayfirst, cache_dates, iterator, chunksize, compression, thousands, decimal, lineterminator, quotechar, quoting, doublequote, escapechar, comment, encoding, dialect, error_bad_lines, warn_bad_lines, delim_whitespace, low_memory, memory_map, float_precision)\u001b[0m\n\u001b[0;32m    684\u001b[0m     )\n\u001b[0;32m    685\u001b[0m \u001b[1;33m\u001b[0m\u001b[0m\n\u001b[1;32m--> 686\u001b[1;33m     \u001b[1;32mreturn\u001b[0m \u001b[0m_read\u001b[0m\u001b[1;33m(\u001b[0m\u001b[0mfilepath_or_buffer\u001b[0m\u001b[1;33m,\u001b[0m \u001b[0mkwds\u001b[0m\u001b[1;33m)\u001b[0m\u001b[1;33m\u001b[0m\u001b[1;33m\u001b[0m\u001b[0m\n\u001b[0m\u001b[0;32m    687\u001b[0m \u001b[1;33m\u001b[0m\u001b[0m\n\u001b[0;32m    688\u001b[0m \u001b[1;33m\u001b[0m\u001b[0m\n",
      "\u001b[1;32m~\\Anaconda3\\lib\\site-packages\\pandas\\io\\parsers.py\u001b[0m in \u001b[0;36m_read\u001b[1;34m(filepath_or_buffer, kwds)\u001b[0m\n\u001b[0;32m    450\u001b[0m \u001b[1;33m\u001b[0m\u001b[0m\n\u001b[0;32m    451\u001b[0m     \u001b[1;31m# Create the parser.\u001b[0m\u001b[1;33m\u001b[0m\u001b[1;33m\u001b[0m\u001b[1;33m\u001b[0m\u001b[0m\n\u001b[1;32m--> 452\u001b[1;33m     \u001b[0mparser\u001b[0m \u001b[1;33m=\u001b[0m \u001b[0mTextFileReader\u001b[0m\u001b[1;33m(\u001b[0m\u001b[0mfp_or_buf\u001b[0m\u001b[1;33m,\u001b[0m \u001b[1;33m**\u001b[0m\u001b[0mkwds\u001b[0m\u001b[1;33m)\u001b[0m\u001b[1;33m\u001b[0m\u001b[1;33m\u001b[0m\u001b[0m\n\u001b[0m\u001b[0;32m    453\u001b[0m \u001b[1;33m\u001b[0m\u001b[0m\n\u001b[0;32m    454\u001b[0m     \u001b[1;32mif\u001b[0m \u001b[0mchunksize\u001b[0m \u001b[1;32mor\u001b[0m \u001b[0miterator\u001b[0m\u001b[1;33m:\u001b[0m\u001b[1;33m\u001b[0m\u001b[1;33m\u001b[0m\u001b[0m\n",
      "\u001b[1;32m~\\Anaconda3\\lib\\site-packages\\pandas\\io\\parsers.py\u001b[0m in \u001b[0;36m__init__\u001b[1;34m(self, f, engine, **kwds)\u001b[0m\n\u001b[0;32m    944\u001b[0m             \u001b[0mself\u001b[0m\u001b[1;33m.\u001b[0m\u001b[0moptions\u001b[0m\u001b[1;33m[\u001b[0m\u001b[1;34m\"has_index_names\"\u001b[0m\u001b[1;33m]\u001b[0m \u001b[1;33m=\u001b[0m \u001b[0mkwds\u001b[0m\u001b[1;33m[\u001b[0m\u001b[1;34m\"has_index_names\"\u001b[0m\u001b[1;33m]\u001b[0m\u001b[1;33m\u001b[0m\u001b[1;33m\u001b[0m\u001b[0m\n\u001b[0;32m    945\u001b[0m \u001b[1;33m\u001b[0m\u001b[0m\n\u001b[1;32m--> 946\u001b[1;33m         \u001b[0mself\u001b[0m\u001b[1;33m.\u001b[0m\u001b[0m_make_engine\u001b[0m\u001b[1;33m(\u001b[0m\u001b[0mself\u001b[0m\u001b[1;33m.\u001b[0m\u001b[0mengine\u001b[0m\u001b[1;33m)\u001b[0m\u001b[1;33m\u001b[0m\u001b[1;33m\u001b[0m\u001b[0m\n\u001b[0m\u001b[0;32m    947\u001b[0m \u001b[1;33m\u001b[0m\u001b[0m\n\u001b[0;32m    948\u001b[0m     \u001b[1;32mdef\u001b[0m \u001b[0mclose\u001b[0m\u001b[1;33m(\u001b[0m\u001b[0mself\u001b[0m\u001b[1;33m)\u001b[0m\u001b[1;33m:\u001b[0m\u001b[1;33m\u001b[0m\u001b[1;33m\u001b[0m\u001b[0m\n",
      "\u001b[1;32m~\\Anaconda3\\lib\\site-packages\\pandas\\io\\parsers.py\u001b[0m in \u001b[0;36m_make_engine\u001b[1;34m(self, engine)\u001b[0m\n\u001b[0;32m   1176\u001b[0m     \u001b[1;32mdef\u001b[0m \u001b[0m_make_engine\u001b[0m\u001b[1;33m(\u001b[0m\u001b[0mself\u001b[0m\u001b[1;33m,\u001b[0m \u001b[0mengine\u001b[0m\u001b[1;33m=\u001b[0m\u001b[1;34m\"c\"\u001b[0m\u001b[1;33m)\u001b[0m\u001b[1;33m:\u001b[0m\u001b[1;33m\u001b[0m\u001b[1;33m\u001b[0m\u001b[0m\n\u001b[0;32m   1177\u001b[0m         \u001b[1;32mif\u001b[0m \u001b[0mengine\u001b[0m \u001b[1;33m==\u001b[0m \u001b[1;34m\"c\"\u001b[0m\u001b[1;33m:\u001b[0m\u001b[1;33m\u001b[0m\u001b[1;33m\u001b[0m\u001b[0m\n\u001b[1;32m-> 1178\u001b[1;33m             \u001b[0mself\u001b[0m\u001b[1;33m.\u001b[0m\u001b[0m_engine\u001b[0m \u001b[1;33m=\u001b[0m \u001b[0mCParserWrapper\u001b[0m\u001b[1;33m(\u001b[0m\u001b[0mself\u001b[0m\u001b[1;33m.\u001b[0m\u001b[0mf\u001b[0m\u001b[1;33m,\u001b[0m \u001b[1;33m**\u001b[0m\u001b[0mself\u001b[0m\u001b[1;33m.\u001b[0m\u001b[0moptions\u001b[0m\u001b[1;33m)\u001b[0m\u001b[1;33m\u001b[0m\u001b[1;33m\u001b[0m\u001b[0m\n\u001b[0m\u001b[0;32m   1179\u001b[0m         \u001b[1;32melse\u001b[0m\u001b[1;33m:\u001b[0m\u001b[1;33m\u001b[0m\u001b[1;33m\u001b[0m\u001b[0m\n\u001b[0;32m   1180\u001b[0m             \u001b[1;32mif\u001b[0m \u001b[0mengine\u001b[0m \u001b[1;33m==\u001b[0m \u001b[1;34m\"python\"\u001b[0m\u001b[1;33m:\u001b[0m\u001b[1;33m\u001b[0m\u001b[1;33m\u001b[0m\u001b[0m\n",
      "\u001b[1;32m~\\Anaconda3\\lib\\site-packages\\pandas\\io\\parsers.py\u001b[0m in \u001b[0;36m__init__\u001b[1;34m(self, src, **kwds)\u001b[0m\n\u001b[0;32m   2006\u001b[0m         \u001b[0mkwds\u001b[0m\u001b[1;33m[\u001b[0m\u001b[1;34m\"usecols\"\u001b[0m\u001b[1;33m]\u001b[0m \u001b[1;33m=\u001b[0m \u001b[0mself\u001b[0m\u001b[1;33m.\u001b[0m\u001b[0musecols\u001b[0m\u001b[1;33m\u001b[0m\u001b[1;33m\u001b[0m\u001b[0m\n\u001b[0;32m   2007\u001b[0m \u001b[1;33m\u001b[0m\u001b[0m\n\u001b[1;32m-> 2008\u001b[1;33m         \u001b[0mself\u001b[0m\u001b[1;33m.\u001b[0m\u001b[0m_reader\u001b[0m \u001b[1;33m=\u001b[0m \u001b[0mparsers\u001b[0m\u001b[1;33m.\u001b[0m\u001b[0mTextReader\u001b[0m\u001b[1;33m(\u001b[0m\u001b[0msrc\u001b[0m\u001b[1;33m,\u001b[0m \u001b[1;33m**\u001b[0m\u001b[0mkwds\u001b[0m\u001b[1;33m)\u001b[0m\u001b[1;33m\u001b[0m\u001b[1;33m\u001b[0m\u001b[0m\n\u001b[0m\u001b[0;32m   2009\u001b[0m         \u001b[0mself\u001b[0m\u001b[1;33m.\u001b[0m\u001b[0munnamed_cols\u001b[0m \u001b[1;33m=\u001b[0m \u001b[0mself\u001b[0m\u001b[1;33m.\u001b[0m\u001b[0m_reader\u001b[0m\u001b[1;33m.\u001b[0m\u001b[0munnamed_cols\u001b[0m\u001b[1;33m\u001b[0m\u001b[1;33m\u001b[0m\u001b[0m\n\u001b[0;32m   2010\u001b[0m \u001b[1;33m\u001b[0m\u001b[0m\n",
      "\u001b[1;32mpandas\\_libs\\parsers.pyx\u001b[0m in \u001b[0;36mpandas._libs.parsers.TextReader.__cinit__\u001b[1;34m()\u001b[0m\n",
      "\u001b[1;32mpandas\\_libs\\parsers.pyx\u001b[0m in \u001b[0;36mpandas._libs.parsers.TextReader._setup_parser_source\u001b[1;34m()\u001b[0m\n",
      "\u001b[1;31mFileNotFoundError\u001b[0m: [Errno 2] No such file or directory: 'Final_clean_rare_stones_datasSet.csv'"
     ]
    }
   ],
   "source": [
    "rare_dataSet= pd.read_csv(\"Final_clean_rare_stones_datasSet.csv\",index_col=0)\n",
    "# rare_df = pd.read_csv(\"Final_clean_rare_stones.csv\",index_col=0)\n",
    "Climate_df=pd.read_csv(\"Climate_dictionary.csv\",index_col=0)\n",
    "Group_dict_df = pd.read_csv(\"Groups_dictionary.csv\",index_col=0)\n",
    "dataset_df = pd.read_csv(\"Final_clean_dataSet111.csv\",index_col=0)\n",
    "full_df = pd.read_csv(\"Final_clean_Loc_df111.csv\",index_col=0)\n",
    "Stones_Grouped_df = pd.read_csv(\"Groups_dictionary.csv\",index_col=0)\n",
    "Stones_appear = pd.read_csv(\"Stones_Appearence.csv\",index_col=0)\n",
    "Corr_values = pd.read_csv(\"Corr_values_table.csv\",index_col=0)\n",
    "Corr_names = pd.read_csv(\"Corr_names_table.csv\",index_col=0)\n",
    "dataset_df.drop(\"Group_Label\",axis=1,inplace=True) \n",
    "rare_stone_category=pd.read_csv(\"rarest_stones_names.csv\",index_col=0)\n",
    "full_df[\"Climate\"] = dataset_df[\"Climate\"]\n",
    "gemstones_info_df = pd.read_csv(\"project_data_gemstones_table.csv\",index_col=0)"
   ]
  },
  {
   "cell_type": "code",
   "execution_count": null,
   "metadata": {},
   "outputs": [],
   "source": [
    "X = dataset_df.copy() #feature matrix\n",
    "\n",
    "dataset_df[\"clusters\"] = KMeans(n_clusters=8, n_init=500, max_iter=1000).fit_predict(X)\n",
    "y=dataset_df[\"clusters\"] #################################\n",
    "full_df[\"clusters\"]=dataset_df[\"clusters\"]\n",
    "\n",
    "X = scale(X)\n",
    "X_train, X_test, y_train, y_test = train_test_split(X,y, test_size=0.3, random_state=0)\n",
    "X_train.shape, X_test.shape"
   ]
  },
  {
   "cell_type": "code",
   "execution_count": null,
   "metadata": {},
   "outputs": [],
   "source": [
    "full_df0 = full_df.drop(\"Group_Label\",axis=1).copy()\n",
    "group0 = full_df0[full_df0[\"clusters\"]==0]\n",
    "group00 = dataset_df[dataset_df[\"clusters\"]==0]\n",
    "group1 = full_df0[full_df0[\"clusters\"]==1]\n",
    "group2 = full_df0[full_df0[\"clusters\"]==2]\n",
    "group3 = full_df0[full_df0[\"clusters\"]==3]\n",
    "group4 = full_df0[full_df0[\"clusters\"]==4]\n",
    "\n",
    "group5 = full_df0[full_df0[\"clusters\"]==5]\n",
    "group6 = full_df0[full_df0[\"clusters\"]==6]\n",
    "group7 = full_df0[full_df0[\"clusters\"]==7]\n",
    "groups = [group0,group1,group2,group3,group4,group5,group6,group7]"
   ]
  },
  {
   "cell_type": "code",
   "execution_count": null,
   "metadata": {},
   "outputs": [],
   "source": [
    "# Stones_appear.drop([\"Lazuli\" ,\"Unakite\"],axis=1,inplace=True)\n",
    "Stones_appear = pd.DataFrame(index=range(8),columns=Stones_appear.columns)\n",
    "Stones_appear[\"total_stones_in_group\"] = 0\n",
    "for col in Stones_appear.columns:\n",
    "    Stones_appear[col]=0"
   ]
  },
  {
   "cell_type": "code",
   "execution_count": null,
   "metadata": {},
   "outputs": [],
   "source": [
    "for i,group in enumerate(groups):\n",
    "    for ind in group.index:\n",
    "        for stone in group[\"Stone Refernced\"][ind].split():\n",
    "            if(stone==\"Lapis\" or stone==\"Lazuli\" or stone==\"Unakite\"):continue\n",
    "            Stones_appear[stone][i]+=1\n",
    "            Stones_appear[\"total_stones_in_group\"][i]+=1"
   ]
  },
  {
   "cell_type": "code",
   "execution_count": null,
   "metadata": {},
   "outputs": [],
   "source": [
    "Stones_appear.drop([\"Unakite\",\"Lazuli\",\"Lapis\"],axis=1,inplace=True)\n",
    "Stones_appear"
   ]
  },
  {
   "cell_type": "code",
   "execution_count": null,
   "metadata": {},
   "outputs": [],
   "source": [
    "Stones_appear.to_csv(\"Stones_Clustering_by_KNN\")"
   ]
  },
  {
   "cell_type": "code",
   "execution_count": null,
   "metadata": {},
   "outputs": [],
   "source": [
    "\n",
    "group0_resaults = Stones_appear.loc[0].sort_values(ascending=False)\n",
    "group1_resaults = Stones_appear.loc[1].sort_values(ascending=False)\n",
    "group2_resaults = Stones_appear.loc[2].sort_values(ascending=False)\n",
    "group3_resaults = Stones_appear.loc[3].sort_values(ascending=False)\n",
    "group4_resaults = Stones_appear.loc[4].sort_values(ascending=False)\n",
    "group5_resaults = Stones_appear.loc[5].sort_values(ascending=False)\n",
    "group6_resaults = Stones_appear.loc[6].sort_values(ascending=False)\n",
    "group7_resaults = Stones_appear.loc[7].sort_values(ascending=False)\n",
    "\n",
    "group0_resaults = group0_resaults[group0_resaults.values!=0]\n",
    "group1_resaults = group1_resaults[group1_resaults.values!=0]\n",
    "group2_resaults = group2_resaults[group2_resaults.values!=0]\n",
    "group3_resaults = group3_resaults[group3_resaults.values!=0]\n",
    "group4_resaults = group4_resaults[group4_resaults.values!=0]\n",
    "group5_resaults = group5_resaults[group5_resaults.values!=0]\n",
    "group6_resaults = group6_resaults[group6_resaults.values!=0]\n",
    "group7_resaults = group7_resaults[group7_resaults.values!=0]\n",
    "groups_resaults = [group0_resaults,group1_resaults,group2_resaults,group3_resaults,group4_resaults,group5_resaults,group6_resaults,group7_resaults]"
   ]
  },
  {
   "cell_type": "code",
   "execution_count": null,
   "metadata": {},
   "outputs": [],
   "source": [
    "group7_resaults"
   ]
  },
  {
   "cell_type": "code",
   "execution_count": null,
   "metadata": {
    "scrolled": true
   },
   "outputs": [],
   "source": [
    "group0.describe(include=\"all\")"
   ]
  },
  {
   "cell_type": "code",
   "execution_count": null,
   "metadata": {},
   "outputs": [],
   "source": [
    "group0[\"Climate\"].mode()"
   ]
  },
  {
   "cell_type": "code",
   "execution_count": null,
   "metadata": {},
   "outputs": [],
   "source": [
    "group1.describe(include='all')"
   ]
  },
  {
   "cell_type": "code",
   "execution_count": null,
   "metadata": {},
   "outputs": [],
   "source": [
    "group2.describe(include='all')"
   ]
  },
  {
   "cell_type": "code",
   "execution_count": null,
   "metadata": {},
   "outputs": [],
   "source": [
    "group3.describe(include='all')"
   ]
  },
  {
   "cell_type": "code",
   "execution_count": null,
   "metadata": {},
   "outputs": [],
   "source": [
    "group4.describe(include='all')"
   ]
  },
  {
   "cell_type": "code",
   "execution_count": null,
   "metadata": {
    "scrolled": true
   },
   "outputs": [],
   "source": [
    "group5.describe(include='all')"
   ]
  },
  {
   "cell_type": "code",
   "execution_count": null,
   "metadata": {},
   "outputs": [],
   "source": [
    "group6.describe(include='all')"
   ]
  },
  {
   "cell_type": "code",
   "execution_count": null,
   "metadata": {},
   "outputs": [],
   "source": [
    "group7.describe(include='all')"
   ]
  },
  {
   "cell_type": "code",
   "execution_count": null,
   "metadata": {},
   "outputs": [],
   "source": [
    "# check most sagnificant Minerals in each group\n",
    "# i = 0\n",
    "# for val in (group7.mean()>=0.5):\n",
    "#     if(val==True):\n",
    "#         print(i)\n",
    "#         i+=1\n",
    "# i=0\n",
    "# for col in group7.columns:\n",
    "#     if(i>=10 and i<=15):\n",
    "#         print(col)\n",
    "#     i+=1"
   ]
  },
  {
   "cell_type": "code",
   "execution_count": null,
   "metadata": {},
   "outputs": [],
   "source": [
    "rare_dataSet.head()"
   ]
  },
  {
   "cell_type": "code",
   "execution_count": null,
   "metadata": {},
   "outputs": [],
   "source": [
    "Climate_df"
   ]
  },
  {
   "cell_type": "code",
   "execution_count": null,
   "metadata": {},
   "outputs": [],
   "source": [
    "### X_test X_train\n",
    "def machine_learning(X_train, X_test,y_train,y_test,name):\n",
    "    clf1 = tree.DecisionTreeClassifier(max_depth=10,min_samples_split=10)\n",
    "    clf2 = RandomForestClassifier(n_estimators=100, max_depth=15,min_samples_split=15)\n",
    "    clf3 = KNeighborsClassifier(n_neighbors=5)\n",
    "    print(\"========================\")\n",
    "    print(\"===\",name,\"===\")\n",
    "    algs = [\"DT\",\"RandForest\",\"KNN\"]\n",
    "    clfs = [clf1,clf2,clf3]\n",
    "    for i,clf in enumerate(clfs):\n",
    "        clf.fit(X_train,y_train)\n",
    "        print(\"  \",algs[i])\n",
    "        print(\"   ======\")\n",
    "        y_pred = clf.predict(X_test)\n",
    "        y_pred_train = clf.predict(X_train)\n",
    "        print(\"    accuracy on train data\",metrics.accuracy_score(y_true=y_train,y_pred=y_pred_train))\n",
    "        print(\"    accuracy on test data\",metrics.accuracy_score(y_true=y_test,y_pred=y_pred))\n",
    "        \n",
    "        #         print(metrics.confusion_matrix(y_test,y_pred))\n",
    "    print(\"========================\")"
   ]
  },
  {
   "cell_type": "code",
   "execution_count": null,
   "metadata": {},
   "outputs": [],
   "source": []
  },
  {
   "cell_type": "code",
   "execution_count": null,
   "metadata": {},
   "outputs": [],
   "source": [
    "def scale_and_split(X):\n",
    "    X = scale(X)\n",
    "    X_train, X_test, y_train, y_test = train_test_split(X,y, test_size=0.3, random_state=0)\n",
    "    return X_train, X_test, y_train, y_test"
   ]
  },
  {
   "cell_type": "code",
   "execution_count": null,
   "metadata": {},
   "outputs": [],
   "source": [
    "X = dataset_df.copy() #feature matrix\n",
    "\n",
    "# dataset_df[\"clusters\"] = KMeans(n_clusters=8, n_init=500, max_iter=1000).fit_predict(X)\n",
    "y=dataset_df[\"clusters\"] #################################\n",
    "full_df[\"clusters\"]=dataset_df[\"clusters\"]\n",
    "X_locations=X.loc[:,'Latitude':'Longitude']\n",
    "X_climate = pd.DataFrame(X['Climate'])\n",
    "X_Minerals = X.loc[:,'Ag':'Zr']\n",
    "X_loc_and_cl = X.loc[:,'Climate':'Longitude']\n",
    "X_list = [X_locations,X_Minerals,X_climate,X_loc_and_cl]\n",
    "X_names = [\"Locations\",\"Minerals\",\"Climate\",\"Location_and_Climate\"]"
   ]
  },
  {
   "cell_type": "code",
   "execution_count": null,
   "metadata": {},
   "outputs": [],
   "source": [
    "for i,X in enumerate(X_list):\n",
    "    X_train, X_test, y_train, y_test = scale_and_split(X)\n",
    "    machine_learning(X_train, X_test, y_train, y_test,X_names[i])"
   ]
  },
  {
   "cell_type": "code",
   "execution_count": null,
   "metadata": {},
   "outputs": [],
   "source": [
    "# Stones_appear.drop([\"total_stones_in_group\"],axis=1,inplace=True)\n",
    "group0_resaults = Stones_appear.loc[0].sort_values(ascending=False)\n",
    "group1_resaults = Stones_appear.loc[1].sort_values(ascending=False)\n",
    "group2_resaults = Stones_appear.loc[2].sort_values(ascending=False)\n",
    "group3_resaults = Stones_appear.loc[3].sort_values(ascending=False)\n",
    "group4_resaults = Stones_appear.loc[4].sort_values(ascending=False)\n",
    "group5_resaults = Stones_appear.loc[5].sort_values(ascending=False)\n",
    "group6_resaults = Stones_appear.loc[6].sort_values(ascending=False)\n",
    "group7_resaults = Stones_appear.loc[7].sort_values(ascending=False)\n",
    "\n",
    "group0_resaults = group0_resaults[group0_resaults.values>10]\n",
    "group1_resaults = group1_resaults[group1_resaults.values>20]\n",
    "group2_resaults = group2_resaults[group2_resaults.values>30]\n",
    "group3_resaults = group3_resaults[group3_resaults.values>10]\n",
    "group4_resaults = group4_resaults[group4_resaults.values>10]\n",
    "group5_resaults = group5_resaults[group5_resaults.values>10]\n",
    "group6_resaults = group6_resaults[group6_resaults.values>10]\n",
    "group7_resaults = group7_resaults[group7_resaults.values>10]\n",
    "groups_resaults = [group0_resaults,group1_resaults,group2_resaults,group3_resaults,group4_resaults,group5_resaults,group6_resaults,group7_resaults]"
   ]
  },
  {
   "cell_type": "code",
   "execution_count": null,
   "metadata": {},
   "outputs": [],
   "source": [
    "import matplotlib.pyplot as plt\n",
    "i=0\n",
    "for group in groups_resaults:\n",
    "    fig, ax = plt.subplots(figsize=(4,4))\n",
    "    ax = group.plot(kind='pie',y=group,ax=ax)\n",
    "    title = \"Stones groups in \"+str(i)+\"'s cluster\"\n",
    "    ax.set_title(title)\n",
    "    \n",
    "    name = \"Cluster \" + str(i) + \"'s_stones.png\"\n",
    "    plt.savefig(name)\n",
    "    \n",
    "    i+=1"
   ]
  },
  {
   "cell_type": "markdown",
   "metadata": {},
   "source": [
    "# Final model - based on Decision Tree Classifier"
   ]
  },
  {
   "cell_type": "markdown",
   "metadata": {},
   "source": [
    "# Which Gemstones will you most likely find?"
   ]
  },
  {
   "cell_type": "code",
   "execution_count": null,
   "metadata": {},
   "outputs": [],
   "source": [
    "X = dataset_df.copy() #feature matrix\n",
    "\n",
    "dataset_df[\"clusters\"] = KMeans(n_clusters=8, n_init=500, max_iter=1000).fit_predict(X)\n",
    "y=dataset_df[\"clusters\"] #################################\n",
    "full_df[\"clusters\"]=dataset_df[\"clusters\"]\n",
    "\n",
    "X = scale(X)\n",
    "X_train, X_test, y_train, y_test = train_test_split(X,y, test_size=0.3, random_state=0)\n",
    "X_train.shape, X_test.shape"
   ]
  },
  {
   "cell_type": "code",
   "execution_count": null,
   "metadata": {},
   "outputs": [],
   "source": [
    "def print_stone_info(stone):\n",
    "    gemstones_info_df.drop_duplicates(inplace=True)\n",
    "    for i in gemstones_info_df.index:\n",
    "        stone_name = gemstones_info_df[\"Name\"][i]\n",
    "        if(stone==stone_name):\n",
    "            stone_info = gemstones_info_df.loc[i]\n",
    "            stone_img = \"imagesmindat\"+str(stone_name) + \".jpg\"\n",
    "            try:\n",
    "                img = Image(filename=stone_img,width=100,height=100)\n",
    "                display(img)\n",
    "            except FileNotFoundError:\n",
    "                print(\"#######\",stone_img)\n",
    "                pass\n",
    "            print(stone_info)\n",
    "        \n",
    "def stone_details(group_num):\n",
    "    Group = group0_resaults\n",
    "    if(group_num==1):Group = group1_resaults\n",
    "    if(group_num==2):Group = group2_resaults\n",
    "    if(group_num==3):Group = group3_resaults\n",
    "    if(group_num==4):Group = group4_resaults\n",
    "    if(group_num==5):Group = group5_resaults\n",
    "    if(group_num==6):Group = group6_resaults\n",
    "    if(group_num==7):Group = group7_resaults\n",
    "    for stone in Group.index:\n",
    "        if(stone!=\"total_stones_in_group\"): print_stone_info(stone)"
   ]
  },
  {
   "cell_type": "code",
   "execution_count": null,
   "metadata": {},
   "outputs": [],
   "source": []
  },
  {
   "cell_type": "code",
   "execution_count": 3,
   "metadata": {},
   "outputs": [
    {
     "ename": "NameError",
     "evalue": "name 'dataset_df' is not defined",
     "output_type": "error",
     "traceback": [
      "\u001b[1;31m---------------------------------------------------------------------------\u001b[0m",
      "\u001b[1;31mNameError\u001b[0m                                 Traceback (most recent call last)",
      "\u001b[1;32m<ipython-input-3-dc3b20bd76d7>\u001b[0m in \u001b[0;36m<module>\u001b[1;34m\u001b[0m\n\u001b[1;32m----> 1\u001b[1;33m \u001b[0mX\u001b[0m\u001b[1;33m=\u001b[0m\u001b[0mdataset_df\u001b[0m\u001b[1;33m.\u001b[0m\u001b[0mloc\u001b[0m\u001b[1;33m[\u001b[0m\u001b[1;33m:\u001b[0m\u001b[1;33m,\u001b[0m\u001b[1;34m'Latitude'\u001b[0m\u001b[1;33m:\u001b[0m\u001b[1;34m'Longitude'\u001b[0m\u001b[1;33m]\u001b[0m\u001b[1;33m\u001b[0m\u001b[1;33m\u001b[0m\u001b[0m\n\u001b[0m\u001b[0;32m      2\u001b[0m \u001b[0my\u001b[0m \u001b[1;33m=\u001b[0m \u001b[0mdataset_df\u001b[0m\u001b[1;33m[\u001b[0m\u001b[1;34m'clusters'\u001b[0m\u001b[1;33m]\u001b[0m\u001b[1;33m\u001b[0m\u001b[1;33m\u001b[0m\u001b[0m\n\u001b[0;32m      3\u001b[0m \u001b[0mX\u001b[0m\u001b[1;33m=\u001b[0m\u001b[0mscale\u001b[0m\u001b[1;33m(\u001b[0m\u001b[0mX\u001b[0m\u001b[1;33m)\u001b[0m\u001b[1;33m\u001b[0m\u001b[1;33m\u001b[0m\u001b[0m\n\u001b[0;32m      4\u001b[0m \u001b[1;31m# print(X)\u001b[0m\u001b[1;33m\u001b[0m\u001b[1;33m\u001b[0m\u001b[1;33m\u001b[0m\u001b[0m\n\u001b[0;32m      5\u001b[0m \u001b[0mX_train\u001b[0m\u001b[1;33m,\u001b[0m \u001b[0mX_test\u001b[0m\u001b[1;33m,\u001b[0m \u001b[0my_train\u001b[0m\u001b[1;33m,\u001b[0m \u001b[0my_test\u001b[0m \u001b[1;33m=\u001b[0m \u001b[0mtrain_test_split\u001b[0m\u001b[1;33m(\u001b[0m\u001b[0mX\u001b[0m\u001b[1;33m,\u001b[0m \u001b[0my\u001b[0m\u001b[1;33m,\u001b[0m \u001b[0mtest_size\u001b[0m\u001b[1;33m=\u001b[0m\u001b[1;36m0.3\u001b[0m\u001b[1;33m,\u001b[0m \u001b[0mrandom_state\u001b[0m\u001b[1;33m=\u001b[0m\u001b[1;36m0\u001b[0m\u001b[1;33m)\u001b[0m\u001b[1;33m\u001b[0m\u001b[1;33m\u001b[0m\u001b[0m\n",
      "\u001b[1;31mNameError\u001b[0m: name 'dataset_df' is not defined"
     ]
    }
   ],
   "source": [
    "X=dataset_df.loc[:,'Latitude':'Longitude']\n",
    "y = dataset_df['clusters']\n",
    "X=scale(X)\n",
    "# print(X)\n",
    "X_train, X_test, y_train, y_test = train_test_split(X, y, test_size=0.3, random_state=0)\n",
    "\n",
    "clf = tree.DecisionTreeClassifier(max_depth=10,min_samples_split=10)\n",
    "model =  clf.fit(X_train,y_train)\n",
    "lat = float(input(\"Please enter Lat value: \"))\n",
    "long = float(input(\"Please enter Long value: \"))\n",
    "flag = 0\n",
    "while (-90 <=lat <= 90 and -180 <= long <= 180):\n",
    "    print('Closest clusters prediction : {:.0f}'.format(model.predict([[lat, long]])[0]))\n",
    "    print(\"would you like to get more details? yes = 1, no =0\")\n",
    "    ans = int(input(\"o or 1?\"))\n",
    "    if(ans==1):\n",
    "        stone_details(int(model.predict([[lat, long]])[0]))\n",
    "    dec = int(input(\"Exit = 0, Continue =1, 0 or 1?\"))\n",
    "    if(dec==0):\n",
    "        flag = 1\n",
    "        break\n",
    "    lat = float(input(\"Please enter Lat value: \"))\n",
    "    long = float(input(\"Please enter Long value: \"))\n",
    "    lat = scale(lat)\n",
    "    long = scale(long)\n",
    "if(flag==0):\n",
    "    print('Input is out of range!')\n",
    "else:\n",
    "    print(\"Goodbye!\")"
   ]
  },
  {
   "cell_type": "markdown",
   "metadata": {},
   "source": [
    "32.72247498268717, 35.09698611319979   -> Shefa Yamim Nahal Hakishon Location.\n",
    "\n",
    "From a little research, Shefa Yamim found stones such as: Diopside, Ruby,Quartz,Zircon, Diamonds\n",
    "\n",
    "Can we find those stone by givem Shefa Yamim coordinations?\n",
    "Lets find out..."
   ]
  },
  {
   "cell_type": "code",
   "execution_count": null,
   "metadata": {},
   "outputs": [],
   "source": [
    "Image(filename=\"Table1.png\",width=800,height=800)"
   ]
  },
  {
   "cell_type": "code",
   "execution_count": null,
   "metadata": {},
   "outputs": [],
   "source": [
    "Image(filename=\"Table2.png\",width=800,height=800)"
   ]
  },
  {
   "cell_type": "code",
   "execution_count": null,
   "metadata": {},
   "outputs": [],
   "source": []
  },
  {
   "cell_type": "code",
   "execution_count": null,
   "metadata": {},
   "outputs": [],
   "source": []
  }
 ],
 "metadata": {
  "kernelspec": {
   "display_name": "Python 3",
   "language": "python",
   "name": "python3"
  },
  "language_info": {
   "codemirror_mode": {
    "name": "ipython",
    "version": 3
   },
   "file_extension": ".py",
   "mimetype": "text/x-python",
   "name": "python",
   "nbconvert_exporter": "python",
   "pygments_lexer": "ipython3",
   "version": "3.8.5"
  }
 },
 "nbformat": 4,
 "nbformat_minor": 4
}
