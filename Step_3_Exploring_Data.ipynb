{
 "cells": [
  {
   "cell_type": "code",
   "execution_count": 1,
   "metadata": {},
   "outputs": [],
   "source": [
    "import pandas as pd\n",
    "import numpy as np\n",
    "import matplotlib as mpl\n",
    "import matplotlib.pyplot as plt      \n",
    "import math\n",
    "import seaborn as sns\n",
    "from collections import Counter\n",
    "from sklearn.decomposition import PCA\n"
   ]
  },
  {
   "cell_type": "code",
   "execution_count": 2,
   "metadata": {},
   "outputs": [],
   "source": [
    "df_CleanTable = pd.read_csv(\"Final_clean_project_data_Recipe_table.csv\")\n",
    "df_Ingrediants = pd.read_csv(\"Ingredients.csv\")\n",
    "df_TopIngrediants = pd.read_csv(\"Top_Ingredients.csv\")\n",
    "df_Category=pd.read_csv(\"project_data_Category_table.csv\")\n",
    "df_Time=pd.read_csv(\"Time_Range.csv\")\n",
    "df_range = pd.read_csv(\"Rating_categorial.csv\")"
   ]
  },
  {
   "cell_type": "code",
   "execution_count": null,
   "metadata": {},
   "outputs": [],
   "source": []
  },
  {
   "cell_type": "code",
   "execution_count": 3,
   "metadata": {},
   "outputs": [],
   "source": [
    "df_NameCategoryRewies=df_CleanTable[[\"Name\",\"Category\",\"Rank number\",\"Preparation time in mins\"]].copy()\n",
    "df_NameCategoryRewies=df_NameCategoryRewies.sort_values(\"Rank number\", ascending=False)\n",
    "df_NameCategoryRewies=df_NameCategoryRewies.nlargest(10,\"Rank number\")\n",
    "\n"
   ]
  },
  {
   "cell_type": "code",
   "execution_count": 4,
   "metadata": {},
   "outputs": [
    {
     "data": {
      "text/html": [
       "<div>\n",
       "<style scoped>\n",
       "    .dataframe tbody tr th:only-of-type {\n",
       "        vertical-align: middle;\n",
       "    }\n",
       "\n",
       "    .dataframe tbody tr th {\n",
       "        vertical-align: top;\n",
       "    }\n",
       "\n",
       "    .dataframe thead th {\n",
       "        text-align: right;\n",
       "    }\n",
       "</style>\n",
       "<table border=\"1\" class=\"dataframe\">\n",
       "  <thead>\n",
       "    <tr style=\"text-align: right;\">\n",
       "      <th></th>\n",
       "      <th>Number value</th>\n",
       "      <th>Start time Range</th>\n",
       "      <th>End time Range</th>\n",
       "    </tr>\n",
       "  </thead>\n",
       "  <tbody>\n",
       "    <tr>\n",
       "      <th>0</th>\n",
       "      <td>1</td>\n",
       "      <td>1</td>\n",
       "      <td>32</td>\n",
       "    </tr>\n",
       "    <tr>\n",
       "      <th>1</th>\n",
       "      <td>2</td>\n",
       "      <td>33</td>\n",
       "      <td>64</td>\n",
       "    </tr>\n",
       "    <tr>\n",
       "      <th>2</th>\n",
       "      <td>3</td>\n",
       "      <td>65</td>\n",
       "      <td>128</td>\n",
       "    </tr>\n",
       "    <tr>\n",
       "      <th>3</th>\n",
       "      <td>4</td>\n",
       "      <td>129</td>\n",
       "      <td>256</td>\n",
       "    </tr>\n",
       "    <tr>\n",
       "      <th>4</th>\n",
       "      <td>5</td>\n",
       "      <td>257</td>\n",
       "      <td>512</td>\n",
       "    </tr>\n",
       "    <tr>\n",
       "      <th>5</th>\n",
       "      <td>6</td>\n",
       "      <td>513</td>\n",
       "      <td>1024</td>\n",
       "    </tr>\n",
       "    <tr>\n",
       "      <th>6</th>\n",
       "      <td>7</td>\n",
       "      <td>1025</td>\n",
       "      <td>2048</td>\n",
       "    </tr>\n",
       "    <tr>\n",
       "      <th>7</th>\n",
       "      <td>8</td>\n",
       "      <td>2049</td>\n",
       "      <td>4096</td>\n",
       "    </tr>\n",
       "    <tr>\n",
       "      <th>8</th>\n",
       "      <td>9</td>\n",
       "      <td>4097</td>\n",
       "      <td>8192</td>\n",
       "    </tr>\n",
       "    <tr>\n",
       "      <th>9</th>\n",
       "      <td>10</td>\n",
       "      <td>8193</td>\n",
       "      <td>16384</td>\n",
       "    </tr>\n",
       "    <tr>\n",
       "      <th>10</th>\n",
       "      <td>11</td>\n",
       "      <td>16385</td>\n",
       "      <td>32768</td>\n",
       "    </tr>\n",
       "    <tr>\n",
       "      <th>11</th>\n",
       "      <td>12</td>\n",
       "      <td>32769</td>\n",
       "      <td>65536</td>\n",
       "    </tr>\n",
       "    <tr>\n",
       "      <th>12</th>\n",
       "      <td>13</td>\n",
       "      <td>65537</td>\n",
       "      <td>131072</td>\n",
       "    </tr>\n",
       "  </tbody>\n",
       "</table>\n",
       "</div>"
      ],
      "text/plain": [
       "    Number value  Start time Range  End time Range\n",
       "0              1                 1              32\n",
       "1              2                33              64\n",
       "2              3                65             128\n",
       "3              4               129             256\n",
       "4              5               257             512\n",
       "5              6               513            1024\n",
       "6              7              1025            2048\n",
       "7              8              2049            4096\n",
       "8              9              4097            8192\n",
       "9             10              8193           16384\n",
       "10            11             16385           32768\n",
       "11            12             32769           65536\n",
       "12            13             65537          131072"
      ]
     },
     "execution_count": 4,
     "metadata": {},
     "output_type": "execute_result"
    },
    {
     "data": {
      "image/png": "[encoded data removed]",
      "text/plain": [
       "<Figure size 504x504 with 1 Axes>"
      ]
     },
     "metadata": {
      "needs_background": "light"
     },
     "output_type": "display_data"
    }
   ],
   "source": [
    "ax = df_Time.plot.bar(x='Number value', y='Counts', rot=0,figsize=(7,7))\n",
    "ax.set_title(\"Number of Recipe in each time range\")\n",
    "df_Time[['Number value', 'Start time Range','End time Range']]"
   ]
  },
  {
   "cell_type": "code",
   "execution_count": 5,
   "metadata": {},
   "outputs": [
    {
     "data": {
      "text/html": [
       "<div>\n",
       "<style scoped>\n",
       "    .dataframe tbody tr th:only-of-type {\n",
       "        vertical-align: middle;\n",
       "    }\n",
       "\n",
       "    .dataframe tbody tr th {\n",
       "        vertical-align: top;\n",
       "    }\n",
       "\n",
       "    .dataframe thead th {\n",
       "        text-align: right;\n",
       "    }\n",
       "</style>\n",
       "<table border=\"1\" class=\"dataframe\">\n",
       "  <thead>\n",
       "    <tr style=\"text-align: right;\">\n",
       "      <th></th>\n",
       "      <th>Category</th>\n",
       "      <th>Value</th>\n",
       "      <th>Total Rating</th>\n",
       "    </tr>\n",
       "  </thead>\n",
       "  <tbody>\n",
       "    <tr>\n",
       "      <th>48</th>\n",
       "      <td>Dessert</td>\n",
       "      <td>48</td>\n",
       "      <td>53143</td>\n",
       "    </tr>\n",
       "    <tr>\n",
       "      <th>105</th>\n",
       "      <td>One Dish Meal</td>\n",
       "      <td>105</td>\n",
       "      <td>43166</td>\n",
       "    </tr>\n",
       "    <tr>\n",
       "      <th>87</th>\n",
       "      <td>Lunch/Snacks</td>\n",
       "      <td>87</td>\n",
       "      <td>35275</td>\n",
       "    </tr>\n",
       "    <tr>\n",
       "      <th>127</th>\n",
       "      <td>Quick Breads</td>\n",
       "      <td>127</td>\n",
       "      <td>28660</td>\n",
       "    </tr>\n",
       "    <tr>\n",
       "      <th>170</th>\n",
       "      <td>Vegetable</td>\n",
       "      <td>170</td>\n",
       "      <td>24743</td>\n",
       "    </tr>\n",
       "    <tr>\n",
       "      <th>30</th>\n",
       "      <td>Chicken</td>\n",
       "      <td>30</td>\n",
       "      <td>23947</td>\n",
       "    </tr>\n",
       "    <tr>\n",
       "      <th>16</th>\n",
       "      <td>Breakfast</td>\n",
       "      <td>16</td>\n",
       "      <td>23291</td>\n",
       "    </tr>\n",
       "    <tr>\n",
       "      <th>31</th>\n",
       "      <td>Chicken Breast</td>\n",
       "      <td>31</td>\n",
       "      <td>23131</td>\n",
       "    </tr>\n",
       "    <tr>\n",
       "      <th>122</th>\n",
       "      <td>Pork</td>\n",
       "      <td>122</td>\n",
       "      <td>20363</td>\n",
       "    </tr>\n",
       "    <tr>\n",
       "      <th>15</th>\n",
       "      <td>Breads</td>\n",
       "      <td>15</td>\n",
       "      <td>17673</td>\n",
       "    </tr>\n",
       "  </tbody>\n",
       "</table>\n",
       "</div>"
      ],
      "text/plain": [
       "           Category  Value  Total Rating\n",
       "48          Dessert     48         53143\n",
       "105   One Dish Meal    105         43166\n",
       "87     Lunch/Snacks     87         35275\n",
       "127    Quick Breads    127         28660\n",
       "170       Vegetable    170         24743\n",
       "30          Chicken     30         23947\n",
       "16        Breakfast     16         23291\n",
       "31   Chicken Breast     31         23131\n",
       "122            Pork    122         20363\n",
       "15           Breads     15         17673"
      ]
     },
     "execution_count": 5,
     "metadata": {},
     "output_type": "execute_result"
    },
    {
     "data": {
      "image/png": "[encoded data removed]",
      "text/plain": [
       "<Figure size 504x504 with 1 Axes>"
      ]
     },
     "metadata": {
      "needs_background": "light"
     },
     "output_type": "display_data"
    }
   ],
   "source": [
    "ax = df_Category.nlargest(10,\"Total Rating\").plot.bar(x='Value', y='Total Rating', rot=0,figsize=(7,7))\n",
    "ax.set_title(\"Top 10 most rated Categories\")\n",
    "df_Category.nlargest(10,\"Total Rating\")[['Category',\"Value\", 'Total Rating']]"
   ]
  },
  {
   "cell_type": "code",
   "execution_count": 6,
   "metadata": {},
   "outputs": [
    {
     "data": {
      "text/html": [
       "<div>\n",
       "<style scoped>\n",
       "    .dataframe tbody tr th:only-of-type {\n",
       "        vertical-align: middle;\n",
       "    }\n",
       "\n",
       "    .dataframe tbody tr th {\n",
       "        vertical-align: top;\n",
       "    }\n",
       "\n",
       "    .dataframe thead th {\n",
       "        text-align: right;\n",
       "    }\n",
       "</style>\n",
       "<table border=\"1\" class=\"dataframe\">\n",
       "  <thead>\n",
       "    <tr style=\"text-align: right;\">\n",
       "      <th></th>\n",
       "      <th>Category</th>\n",
       "      <th>Value</th>\n",
       "      <th>Total Rating</th>\n",
       "    </tr>\n",
       "  </thead>\n",
       "  <tbody>\n",
       "    <tr>\n",
       "      <th>77</th>\n",
       "      <td>Kosher</td>\n",
       "      <td>77</td>\n",
       "      <td>22</td>\n",
       "    </tr>\n",
       "    <tr>\n",
       "      <th>145</th>\n",
       "      <td>Spanish</td>\n",
       "      <td>145</td>\n",
       "      <td>22</td>\n",
       "    </tr>\n",
       "    <tr>\n",
       "      <th>159</th>\n",
       "      <td>Szechuan</td>\n",
       "      <td>159</td>\n",
       "      <td>22</td>\n",
       "    </tr>\n",
       "    <tr>\n",
       "      <th>116</th>\n",
       "      <td>Pheasant</td>\n",
       "      <td>116</td>\n",
       "      <td>24</td>\n",
       "    </tr>\n",
       "    <tr>\n",
       "      <th>4</th>\n",
       "      <td>African</td>\n",
       "      <td>4</td>\n",
       "      <td>25</td>\n",
       "    </tr>\n",
       "    <tr>\n",
       "      <th>51</th>\n",
       "      <td>Egg Free</td>\n",
       "      <td>51</td>\n",
       "      <td>25</td>\n",
       "    </tr>\n",
       "    <tr>\n",
       "      <th>158</th>\n",
       "      <td>Swiss</td>\n",
       "      <td>158</td>\n",
       "      <td>26</td>\n",
       "    </tr>\n",
       "    <tr>\n",
       "      <th>23</th>\n",
       "      <td>Canning</td>\n",
       "      <td>23</td>\n",
       "      <td>27</td>\n",
       "    </tr>\n",
       "    <tr>\n",
       "      <th>119</th>\n",
       "      <td>Plums</td>\n",
       "      <td>119</td>\n",
       "      <td>27</td>\n",
       "    </tr>\n",
       "    <tr>\n",
       "      <th>32</th>\n",
       "      <td>Chicken Livers</td>\n",
       "      <td>32</td>\n",
       "      <td>29</td>\n",
       "    </tr>\n",
       "    <tr>\n",
       "      <th>90</th>\n",
       "      <td>Mango</td>\n",
       "      <td>90</td>\n",
       "      <td>29</td>\n",
       "    </tr>\n",
       "    <tr>\n",
       "      <th>94</th>\n",
       "      <td>Meatballs</td>\n",
       "      <td>94</td>\n",
       "      <td>29</td>\n",
       "    </tr>\n",
       "    <tr>\n",
       "      <th>103</th>\n",
       "      <td>No Shell Fish</td>\n",
       "      <td>103</td>\n",
       "      <td>30</td>\n",
       "    </tr>\n",
       "    <tr>\n",
       "      <th>76</th>\n",
       "      <td>Korean</td>\n",
       "      <td>76</td>\n",
       "      <td>31</td>\n",
       "    </tr>\n",
       "    <tr>\n",
       "      <th>97</th>\n",
       "      <td>Melons</td>\n",
       "      <td>97</td>\n",
       "      <td>32</td>\n",
       "    </tr>\n",
       "    <tr>\n",
       "      <th>102</th>\n",
       "      <td>Mussels</td>\n",
       "      <td>102</td>\n",
       "      <td>33</td>\n",
       "    </tr>\n",
       "    <tr>\n",
       "      <th>112</th>\n",
       "      <td>Pears</td>\n",
       "      <td>112</td>\n",
       "      <td>34</td>\n",
       "    </tr>\n",
       "    <tr>\n",
       "      <th>64</th>\n",
       "      <td>Halloween</td>\n",
       "      <td>64</td>\n",
       "      <td>37</td>\n",
       "    </tr>\n",
       "    <tr>\n",
       "      <th>43</th>\n",
       "      <td>Crawfish</td>\n",
       "      <td>43</td>\n",
       "      <td>41</td>\n",
       "    </tr>\n",
       "    <tr>\n",
       "      <th>157</th>\n",
       "      <td>Swedish</td>\n",
       "      <td>157</td>\n",
       "      <td>42</td>\n",
       "    </tr>\n",
       "  </tbody>\n",
       "</table>\n",
       "</div>"
      ],
      "text/plain": [
       "           Category  Value  Total Rating\n",
       "77           Kosher     77            22\n",
       "145         Spanish    145            22\n",
       "159        Szechuan    159            22\n",
       "116        Pheasant    116            24\n",
       "4           African      4            25\n",
       "51         Egg Free     51            25\n",
       "158           Swiss    158            26\n",
       "23          Canning     23            27\n",
       "119           Plums    119            27\n",
       "32   Chicken Livers     32            29\n",
       "90            Mango     90            29\n",
       "94        Meatballs     94            29\n",
       "103   No Shell Fish    103            30\n",
       "76           Korean     76            31\n",
       "97           Melons     97            32\n",
       "102         Mussels    102            33\n",
       "112           Pears    112            34\n",
       "64        Halloween     64            37\n",
       "43         Crawfish     43            41\n",
       "157         Swedish    157            42"
      ]
     },
     "execution_count": 6,
     "metadata": {},
     "output_type": "execute_result"
    },
    {
     "data": {
      "image/png": "[encoded data removed]",
      "text/plain": [
       "<Figure size 504x504 with 1 Axes>"
      ]
     },
     "metadata": {
      "needs_background": "light"
     },
     "output_type": "display_data"
    }
   ],
   "source": [
    "ax = df_Category.nsmallest(20,\"Total Rating\").plot.bar(x='Value', y='Total Rating', rot=0,figsize=(7,7))\n",
    "ax.set_title(\"Top 20 least rated Categories\")\n",
    "df_Category.nsmallest(20,\"Total Rating\")[['Category',\"Value\", 'Total Rating']]"
   ]
  },
  {
   "cell_type": "code",
   "execution_count": 7,
   "metadata": {},
   "outputs": [
    {
     "data": {
      "text/html": [
       "<div>\n",
       "<style scoped>\n",
       "    .dataframe tbody tr th:only-of-type {\n",
       "        vertical-align: middle;\n",
       "    }\n",
       "\n",
       "    .dataframe tbody tr th {\n",
       "        vertical-align: top;\n",
       "    }\n",
       "\n",
       "    .dataframe thead th {\n",
       "        text-align: right;\n",
       "    }\n",
       "</style>\n",
       "<table border=\"1\" class=\"dataframe\">\n",
       "  <thead>\n",
       "    <tr style=\"text-align: right;\">\n",
       "      <th></th>\n",
       "      <th>Number value</th>\n",
       "      <th>Start time Range</th>\n",
       "      <th>End time Range</th>\n",
       "      <th>AVG Rating</th>\n",
       "    </tr>\n",
       "  </thead>\n",
       "  <tbody>\n",
       "    <tr>\n",
       "      <th>0</th>\n",
       "      <td>1</td>\n",
       "      <td>1</td>\n",
       "      <td>32</td>\n",
       "      <td>94.66</td>\n",
       "    </tr>\n",
       "    <tr>\n",
       "      <th>1</th>\n",
       "      <td>2</td>\n",
       "      <td>33</td>\n",
       "      <td>64</td>\n",
       "      <td>94.43</td>\n",
       "    </tr>\n",
       "    <tr>\n",
       "      <th>2</th>\n",
       "      <td>3</td>\n",
       "      <td>65</td>\n",
       "      <td>128</td>\n",
       "      <td>94.99</td>\n",
       "    </tr>\n",
       "    <tr>\n",
       "      <th>3</th>\n",
       "      <td>4</td>\n",
       "      <td>129</td>\n",
       "      <td>256</td>\n",
       "      <td>94.75</td>\n",
       "    </tr>\n",
       "    <tr>\n",
       "      <th>4</th>\n",
       "      <td>5</td>\n",
       "      <td>257</td>\n",
       "      <td>512</td>\n",
       "      <td>92.82</td>\n",
       "    </tr>\n",
       "    <tr>\n",
       "      <th>5</th>\n",
       "      <td>6</td>\n",
       "      <td>513</td>\n",
       "      <td>1024</td>\n",
       "      <td>94.23</td>\n",
       "    </tr>\n",
       "    <tr>\n",
       "      <th>6</th>\n",
       "      <td>7</td>\n",
       "      <td>1025</td>\n",
       "      <td>2048</td>\n",
       "      <td>95.83</td>\n",
       "    </tr>\n",
       "    <tr>\n",
       "      <th>7</th>\n",
       "      <td>8</td>\n",
       "      <td>2049</td>\n",
       "      <td>4096</td>\n",
       "      <td>96.36</td>\n",
       "    </tr>\n",
       "    <tr>\n",
       "      <th>8</th>\n",
       "      <td>9</td>\n",
       "      <td>4097</td>\n",
       "      <td>8192</td>\n",
       "      <td>94.88</td>\n",
       "    </tr>\n",
       "    <tr>\n",
       "      <th>9</th>\n",
       "      <td>10</td>\n",
       "      <td>8193</td>\n",
       "      <td>16384</td>\n",
       "      <td>94.19</td>\n",
       "    </tr>\n",
       "    <tr>\n",
       "      <th>10</th>\n",
       "      <td>11</td>\n",
       "      <td>16385</td>\n",
       "      <td>32768</td>\n",
       "      <td>98.60</td>\n",
       "    </tr>\n",
       "    <tr>\n",
       "      <th>11</th>\n",
       "      <td>12</td>\n",
       "      <td>32769</td>\n",
       "      <td>65536</td>\n",
       "      <td>0.00</td>\n",
       "    </tr>\n",
       "    <tr>\n",
       "      <th>12</th>\n",
       "      <td>13</td>\n",
       "      <td>65537</td>\n",
       "      <td>131072</td>\n",
       "      <td>99.00</td>\n",
       "    </tr>\n",
       "  </tbody>\n",
       "</table>\n",
       "</div>"
      ],
      "text/plain": [
       "    Number value  Start time Range  End time Range  AVG Rating\n",
       "0              1                 1              32       94.66\n",
       "1              2                33              64       94.43\n",
       "2              3                65             128       94.99\n",
       "3              4               129             256       94.75\n",
       "4              5               257             512       92.82\n",
       "5              6               513            1024       94.23\n",
       "6              7              1025            2048       95.83\n",
       "7              8              2049            4096       96.36\n",
       "8              9              4097            8192       94.88\n",
       "9             10              8193           16384       94.19\n",
       "10            11             16385           32768       98.60\n",
       "11            12             32769           65536        0.00\n",
       "12            13             65537          131072       99.00"
      ]
     },
     "execution_count": 7,
     "metadata": {},
     "output_type": "execute_result"
    },
    {
     "data": {
      "image/png": "[encoded data removed]",
      "text/plain": [
       "<Figure size 504x504 with 1 Axes>"
      ]
     },
     "metadata": {
      "needs_background": "light"
     },
     "output_type": "display_data"
    }
   ],
   "source": [
    "ax = df_Time.plot.bar(x='Number value', y='Counts', rot=0,figsize=(7,7))\n",
    "ax.set_title(\"AVG rating in each time range\")\n",
    "df_Time[['Number value', 'Start time Range','End time Range','AVG Rating']]"
   ]
  },
  {
   "cell_type": "code",
   "execution_count": null,
   "metadata": {},
   "outputs": [],
   "source": []
  },
  {
   "cell_type": "code",
   "execution_count": 8,
   "metadata": {},
   "outputs": [
    {
     "data": {
      "text/html": [
       "<div>\n",
       "<style scoped>\n",
       "    .dataframe tbody tr th:only-of-type {\n",
       "        vertical-align: middle;\n",
       "    }\n",
       "\n",
       "    .dataframe tbody tr th {\n",
       "        vertical-align: top;\n",
       "    }\n",
       "\n",
       "    .dataframe thead th {\n",
       "        text-align: right;\n",
       "    }\n",
       "</style>\n",
       "<table border=\"1\" class=\"dataframe\">\n",
       "  <thead>\n",
       "    <tr style=\"text-align: right;\">\n",
       "      <th></th>\n",
       "      <th>Name</th>\n",
       "      <th>Number</th>\n",
       "    </tr>\n",
       "  </thead>\n",
       "  <tbody>\n",
       "    <tr>\n",
       "      <th>6</th>\n",
       "      <td>salt</td>\n",
       "      <td>3959</td>\n",
       "    </tr>\n",
       "    <tr>\n",
       "      <th>0</th>\n",
       "      <td>butter</td>\n",
       "      <td>2566</td>\n",
       "    </tr>\n",
       "    <tr>\n",
       "      <th>41</th>\n",
       "      <td>sugar</td>\n",
       "      <td>2104</td>\n",
       "    </tr>\n",
       "    <tr>\n",
       "      <th>2</th>\n",
       "      <td>eggs</td>\n",
       "      <td>1521</td>\n",
       "    </tr>\n",
       "    <tr>\n",
       "      <th>16</th>\n",
       "      <td>water</td>\n",
       "      <td>1500</td>\n",
       "    </tr>\n",
       "    <tr>\n",
       "      <th>19</th>\n",
       "      <td>onion</td>\n",
       "      <td>1492</td>\n",
       "    </tr>\n",
       "    <tr>\n",
       "      <th>39</th>\n",
       "      <td>flour</td>\n",
       "      <td>1429</td>\n",
       "    </tr>\n",
       "    <tr>\n",
       "      <th>52</th>\n",
       "      <td>milk</td>\n",
       "      <td>1190</td>\n",
       "    </tr>\n",
       "    <tr>\n",
       "      <th>9</th>\n",
       "      <td>olive oil</td>\n",
       "      <td>1083</td>\n",
       "    </tr>\n",
       "    <tr>\n",
       "      <th>140</th>\n",
       "      <td>pepper</td>\n",
       "      <td>952</td>\n",
       "    </tr>\n",
       "  </tbody>\n",
       "</table>\n",
       "</div>"
      ],
      "text/plain": [
       "          Name  Number\n",
       "6         salt    3959\n",
       "0       butter    2566\n",
       "41       sugar    2104\n",
       "2         eggs    1521\n",
       "16       water    1500\n",
       "19       onion    1492\n",
       "39       flour    1429\n",
       "52        milk    1190\n",
       "9    olive oil    1083\n",
       "140     pepper     952"
      ]
     },
     "execution_count": 8,
     "metadata": {},
     "output_type": "execute_result"
    },
    {
     "data": {
      "image/png": "[encoded data removed]",
      "text/plain": [
       "<Figure size 360x576 with 1 Axes>"
      ]
     },
     "metadata": {},
     "output_type": "display_data"
    }
   ],
   "source": [
    "df_TopIngrediants = df_TopIngrediants.rename(columns = {'Unnamed: 0': 'Name', '0': 'Number'}, inplace = False)\n",
    "df_TopIngrediants.sort_values(\"Number\", ascending=False)\n",
    "\n",
    "figure, ax1 = plt.subplots()\n",
    "df_Top10=df_TopIngrediants.nlargest(10,'Number')\n",
    "df_Top10.plot(kind='pie', y = 'Number', ax=ax1,figsize=(5, 8),labels=df_Top10[\"Name\"].tolist(),autopct='%1.1f%%', startangle=270, fontsize=9)\n",
    "ax1.yaxis.set_visible(False)\n",
    "ax1.get_legend().remove()\n",
    "df_Top10\n"
   ]
  },
  {
   "cell_type": "code",
   "execution_count": 9,
   "metadata": {},
   "outputs": [
    {
     "data": {
      "text/html": [
       "<div>\n",
       "<style scoped>\n",
       "    .dataframe tbody tr th:only-of-type {\n",
       "        vertical-align: middle;\n",
       "    }\n",
       "\n",
       "    .dataframe tbody tr th {\n",
       "        vertical-align: top;\n",
       "    }\n",
       "\n",
       "    .dataframe thead th {\n",
       "        text-align: right;\n",
       "    }\n",
       "</style>\n",
       "<table border=\"1\" class=\"dataframe\">\n",
       "  <thead>\n",
       "    <tr style=\"text-align: right;\">\n",
       "      <th></th>\n",
       "      <th>Name</th>\n",
       "      <th>Number</th>\n",
       "    </tr>\n",
       "  </thead>\n",
       "  <tbody>\n",
       "    <tr>\n",
       "      <th>6</th>\n",
       "      <td>salt</td>\n",
       "      <td>3959</td>\n",
       "    </tr>\n",
       "    <tr>\n",
       "      <th>0</th>\n",
       "      <td>butter</td>\n",
       "      <td>2566</td>\n",
       "    </tr>\n",
       "    <tr>\n",
       "      <th>41</th>\n",
       "      <td>sugar</td>\n",
       "      <td>2104</td>\n",
       "    </tr>\n",
       "    <tr>\n",
       "      <th>2</th>\n",
       "      <td>eggs</td>\n",
       "      <td>1521</td>\n",
       "    </tr>\n",
       "    <tr>\n",
       "      <th>16</th>\n",
       "      <td>water</td>\n",
       "      <td>1500</td>\n",
       "    </tr>\n",
       "    <tr>\n",
       "      <th>19</th>\n",
       "      <td>onion</td>\n",
       "      <td>1492</td>\n",
       "    </tr>\n",
       "    <tr>\n",
       "      <th>39</th>\n",
       "      <td>flour</td>\n",
       "      <td>1429</td>\n",
       "    </tr>\n",
       "    <tr>\n",
       "      <th>52</th>\n",
       "      <td>milk</td>\n",
       "      <td>1190</td>\n",
       "    </tr>\n",
       "    <tr>\n",
       "      <th>9</th>\n",
       "      <td>olive oil</td>\n",
       "      <td>1083</td>\n",
       "    </tr>\n",
       "    <tr>\n",
       "      <th>140</th>\n",
       "      <td>pepper</td>\n",
       "      <td>952</td>\n",
       "    </tr>\n",
       "  </tbody>\n",
       "</table>\n",
       "</div>"
      ],
      "text/plain": [
       "          Name  Number\n",
       "6         salt    3959\n",
       "0       butter    2566\n",
       "41       sugar    2104\n",
       "2         eggs    1521\n",
       "16       water    1500\n",
       "19       onion    1492\n",
       "39       flour    1429\n",
       "52        milk    1190\n",
       "9    olive oil    1083\n",
       "140     pepper     952"
      ]
     },
     "execution_count": 9,
     "metadata": {},
     "output_type": "execute_result"
    }
   ],
   "source": [
    "df_Top10"
   ]
  },
  {
   "cell_type": "code",
   "execution_count": 10,
   "metadata": {
    "scrolled": false
   },
   "outputs": [
    {
     "data": {
      "text/html": [
       "<div>\n",
       "<style scoped>\n",
       "    .dataframe tbody tr th:only-of-type {\n",
       "        vertical-align: middle;\n",
       "    }\n",
       "\n",
       "    .dataframe tbody tr th {\n",
       "        vertical-align: top;\n",
       "    }\n",
       "\n",
       "    .dataframe thead th {\n",
       "        text-align: right;\n",
       "    }\n",
       "</style>\n",
       "<table border=\"1\" class=\"dataframe\">\n",
       "  <thead>\n",
       "    <tr style=\"text-align: right;\">\n",
       "      <th></th>\n",
       "      <th>Unnamed: 0</th>\n",
       "      <th>Category</th>\n",
       "      <th>Value</th>\n",
       "      <th>Counts</th>\n",
       "      <th>Total Rating</th>\n",
       "    </tr>\n",
       "  </thead>\n",
       "  <tbody>\n",
       "    <tr>\n",
       "      <th>48</th>\n",
       "      <td>48</td>\n",
       "      <td>Dessert</td>\n",
       "      <td>48</td>\n",
       "      <td>853</td>\n",
       "      <td>53143</td>\n",
       "    </tr>\n",
       "    <tr>\n",
       "      <th>105</th>\n",
       "      <td>105</td>\n",
       "      <td>One Dish Meal</td>\n",
       "      <td>105</td>\n",
       "      <td>582</td>\n",
       "      <td>43166</td>\n",
       "    </tr>\n",
       "    <tr>\n",
       "      <th>87</th>\n",
       "      <td>87</td>\n",
       "      <td>Lunch/Snacks</td>\n",
       "      <td>87</td>\n",
       "      <td>627</td>\n",
       "      <td>35275</td>\n",
       "    </tr>\n",
       "    <tr>\n",
       "      <th>127</th>\n",
       "      <td>127</td>\n",
       "      <td>Quick Breads</td>\n",
       "      <td>127</td>\n",
       "      <td>350</td>\n",
       "      <td>28660</td>\n",
       "    </tr>\n",
       "    <tr>\n",
       "      <th>170</th>\n",
       "      <td>170</td>\n",
       "      <td>Vegetable</td>\n",
       "      <td>170</td>\n",
       "      <td>480</td>\n",
       "      <td>24743</td>\n",
       "    </tr>\n",
       "    <tr>\n",
       "      <th>30</th>\n",
       "      <td>30</td>\n",
       "      <td>Chicken</td>\n",
       "      <td>30</td>\n",
       "      <td>351</td>\n",
       "      <td>23947</td>\n",
       "    </tr>\n",
       "    <tr>\n",
       "      <th>16</th>\n",
       "      <td>16</td>\n",
       "      <td>Breakfast</td>\n",
       "      <td>16</td>\n",
       "      <td>365</td>\n",
       "      <td>23291</td>\n",
       "    </tr>\n",
       "    <tr>\n",
       "      <th>31</th>\n",
       "      <td>31</td>\n",
       "      <td>Chicken Breast</td>\n",
       "      <td>31</td>\n",
       "      <td>263</td>\n",
       "      <td>23131</td>\n",
       "    </tr>\n",
       "    <tr>\n",
       "      <th>122</th>\n",
       "      <td>122</td>\n",
       "      <td>Pork</td>\n",
       "      <td>122</td>\n",
       "      <td>295</td>\n",
       "      <td>20363</td>\n",
       "    </tr>\n",
       "    <tr>\n",
       "      <th>15</th>\n",
       "      <td>15</td>\n",
       "      <td>Breads</td>\n",
       "      <td>15</td>\n",
       "      <td>288</td>\n",
       "      <td>17673</td>\n",
       "    </tr>\n",
       "  </tbody>\n",
       "</table>\n",
       "</div>"
      ],
      "text/plain": [
       "     Unnamed: 0        Category  Value  Counts  Total Rating\n",
       "48           48         Dessert     48     853         53143\n",
       "105         105   One Dish Meal    105     582         43166\n",
       "87           87    Lunch/Snacks     87     627         35275\n",
       "127         127    Quick Breads    127     350         28660\n",
       "170         170       Vegetable    170     480         24743\n",
       "30           30         Chicken     30     351         23947\n",
       "16           16       Breakfast     16     365         23291\n",
       "31           31  Chicken Breast     31     263         23131\n",
       "122         122            Pork    122     295         20363\n",
       "15           15          Breads     15     288         17673"
      ]
     },
     "execution_count": 10,
     "metadata": {},
     "output_type": "execute_result"
    },
    {
     "data": {
      "image/png": "[encoded data removed]",
      "text/plain": [
       "<Figure size 360x2160 with 1 Axes>"
      ]
     },
     "metadata": {},
     "output_type": "display_data"
    },
    {
     "data": {
      "image/png": "[encoded data removed]",
      "text/plain": [
       "<Figure size 360x2160 with 1 Axes>"
      ]
     },
     "metadata": {},
     "output_type": "display_data"
    }
   ],
   "source": [
    "figure, ax1 = plt.subplots(figsize=(5,30))\n",
    "df_Top10=df_Category.nlargest(10,'Counts')\n",
    "ax1 = df_Top10.plot(kind='pie',y=\"Counts\",ax=ax1,labels=df_Top10[\"Category\"].tolist(),autopct='%1.1f%%',fontsize=9)\n",
    "ax1.set_title(\"The Most Recipe Category Groups instances in dataset\")\n",
    "ax1.yaxis.set_visible(False)\n",
    "ax1.get_legend().remove()\n",
    "figure, ax1 = plt.subplots(figsize=(5,30))\n",
    "df_Top10=df_Category.nlargest(10,'Total Rating')\n",
    "ax1 = df_Top10.plot(kind='pie',y=\"Total Rating\",ax=ax1,labels=df_Top10[\"Category\"].tolist(),autopct='%1.1f%%',fontsize=9)\n",
    "ax1.set_title(\"The Most Ranks Recipe Category instances in dataset\")\n",
    "ax1.yaxis.set_visible(False)\n",
    "ax1.get_legend().remove()\n",
    "df_Top10"
   ]
  },
  {
   "cell_type": "code",
   "execution_count": 11,
   "metadata": {
    "scrolled": false
   },
   "outputs": [
    {
     "data": {
      "text/plain": [
       "<AxesSubplot:xlabel='Preparation time in mins'>"
      ]
     },
     "execution_count": 11,
     "metadata": {},
     "output_type": "execute_result"
    },
    {
     "data": {
      "image/png": "[encoded data removed]",
      "text/plain": [
       "<Figure size 576x576 with 1 Axes>"
      ]
     },
     "metadata": {
      "needs_background": "light"
     },
     "output_type": "display_data"
    }
   ],
   "source": [
    "df_CleanTable.sort_values(\"Preparation time in mins\").plot.line(x=\"Preparation time in mins\",y=\"Rating\",figsize=(8,8))"
   ]
  },
  {
   "cell_type": "code",
   "execution_count": 12,
   "metadata": {},
   "outputs": [
    {
     "data": {
      "text/plain": [
       "<AxesSubplot:title={'center':'Preparation time in mins vs Ingredients number'}, xlabel='Preparation time in mins'>"
      ]
     },
     "execution_count": 12,
     "metadata": {},
     "output_type": "execute_result"
    },
    {
     "data": {
      "image/png": "[encoded data removed]",
      "text/plain": [
       "<Figure size 576x576 with 1 Axes>"
      ]
     },
     "metadata": {
      "needs_background": "light"
     },
     "output_type": "display_data"
    }
   ],
   "source": [
    "df_CleanTable.sort_values(\"Preparation time in mins\").plot.line(title=\"Preparation time in mins vs Ingredients number\",x=\"Preparation time in mins\",y=\"Ingredients number\",figsize=(8,8))"
   ]
  },
  {
   "cell_type": "code",
   "execution_count": 13,
   "metadata": {},
   "outputs": [
    {
     "data": {
      "text/plain": [
       "<AxesSubplot:title={'center':'Preparation time in mins vs Popular'}, xlabel='Preparation time in mins'>"
      ]
     },
     "execution_count": 13,
     "metadata": {},
     "output_type": "execute_result"
    },
    {
     "data": {
      "image/png": "[encoded data removed]",
      "text/plain": [
       "<Figure size 576x576 with 1 Axes>"
      ]
     },
     "metadata": {
      "needs_background": "light"
     },
     "output_type": "display_data"
    }
   ],
   "source": [
    "df_CleanTable.sort_values(\"Preparation time in mins\").plot.line(title=\"Preparation time in mins vs Popular\",x=\"Preparation time in mins\",y=\"Rank number\",figsize=(8,8))"
   ]
  },
  {
   "cell_type": "code",
   "execution_count": 14,
   "metadata": {},
   "outputs": [],
   "source": [
    "# initialize list of lists\n",
    "data = [[\"Low Calories\",0,150,0,0], [\"Medium Calories\",151, 600,0,0], [\"High Calories\",601, 3000,0,0]]\n",
    "  \n",
    "# Create the pandas DataFrame\n",
    "df_Calories = pd.DataFrame(data, columns = [\"Name\",'Start Range', 'End Range','Count',\"Number of Reviews\"])\n"
   ]
  },
  {
   "cell_type": "code",
   "execution_count": 15,
   "metadata": {},
   "outputs": [
    {
     "name": "stderr",
     "output_type": "stream",
     "text": [
      "<ipython-input-15-ef81e6c5abee>:1: SettingWithCopyWarning: \n",
      "A value is trying to be set on a copy of a slice from a DataFrame\n",
      "\n",
      "See the caveats in the documentation: https://pandas.pydata.org/pandas-docs/stable/user_guide/indexing.html#returning-a-view-versus-a-copy\n",
      "  df_Calories['Count'][0]=df_CleanTable.loc[df_CleanTable['Calories per serving'] <=150,'Calories per serving'].count()\n",
      "<ipython-input-15-ef81e6c5abee>:2: SettingWithCopyWarning: \n",
      "A value is trying to be set on a copy of a slice from a DataFrame\n",
      "\n",
      "See the caveats in the documentation: https://pandas.pydata.org/pandas-docs/stable/user_guide/indexing.html#returning-a-view-versus-a-copy\n",
      "  df_Calories['Count'][1]=df_CleanTable.loc[(df_CleanTable['Calories per serving'] > 150) & (df_CleanTable['Calories per serving'] < 600),'Calories per serving'].count()\n",
      "<ipython-input-15-ef81e6c5abee>:3: SettingWithCopyWarning: \n",
      "A value is trying to be set on a copy of a slice from a DataFrame\n",
      "\n",
      "See the caveats in the documentation: https://pandas.pydata.org/pandas-docs/stable/user_guide/indexing.html#returning-a-view-versus-a-copy\n",
      "  df_Calories['Count'][2]=df_CleanTable.loc[(df_CleanTable['Calories per serving'] >= 600),'Calories per serving'].count()\n"
     ]
    }
   ],
   "source": [
    "df_Calories['Count'][0]=df_CleanTable.loc[df_CleanTable['Calories per serving'] <=150,'Calories per serving'].count()\n",
    "df_Calories['Count'][1]=df_CleanTable.loc[(df_CleanTable['Calories per serving'] > 150) & (df_CleanTable['Calories per serving'] < 600),'Calories per serving'].count()\n",
    "df_Calories['Count'][2]=df_CleanTable.loc[(df_CleanTable['Calories per serving'] >= 600),'Calories per serving'].count()"
   ]
  },
  {
   "cell_type": "code",
   "execution_count": 16,
   "metadata": {
    "scrolled": false
   },
   "outputs": [
    {
     "data": {
      "text/html": [
       "<div>\n",
       "<style scoped>\n",
       "    .dataframe tbody tr th:only-of-type {\n",
       "        vertical-align: middle;\n",
       "    }\n",
       "\n",
       "    .dataframe tbody tr th {\n",
       "        vertical-align: top;\n",
       "    }\n",
       "\n",
       "    .dataframe thead th {\n",
       "        text-align: right;\n",
       "    }\n",
       "</style>\n",
       "<table border=\"1\" class=\"dataframe\">\n",
       "  <thead>\n",
       "    <tr style=\"text-align: right;\">\n",
       "      <th></th>\n",
       "      <th>Name</th>\n",
       "      <th>Start Range</th>\n",
       "      <th>End Range</th>\n",
       "      <th>Count</th>\n",
       "      <th>Number of Reviews</th>\n",
       "    </tr>\n",
       "  </thead>\n",
       "  <tbody>\n",
       "    <tr>\n",
       "      <th>0</th>\n",
       "      <td>Low Calories</td>\n",
       "      <td>0</td>\n",
       "      <td>150</td>\n",
       "      <td>1730</td>\n",
       "      <td>0</td>\n",
       "    </tr>\n",
       "    <tr>\n",
       "      <th>1</th>\n",
       "      <td>Medium Calories</td>\n",
       "      <td>151</td>\n",
       "      <td>600</td>\n",
       "      <td>5343</td>\n",
       "      <td>0</td>\n",
       "    </tr>\n",
       "    <tr>\n",
       "      <th>2</th>\n",
       "      <td>High Calories</td>\n",
       "      <td>601</td>\n",
       "      <td>3000</td>\n",
       "      <td>1578</td>\n",
       "      <td>0</td>\n",
       "    </tr>\n",
       "  </tbody>\n",
       "</table>\n",
       "</div>"
      ],
      "text/plain": [
       "              Name  Start Range  End Range  Count  Number of Reviews\n",
       "0     Low Calories            0        150   1730                  0\n",
       "1  Medium Calories          151        600   5343                  0\n",
       "2    High Calories          601       3000   1578                  0"
      ]
     },
     "execution_count": 16,
     "metadata": {},
     "output_type": "execute_result"
    },
    {
     "data": {
      "image/png": "[encoded data removed]",
      "text/plain": [
       "<Figure size 360x2160 with 1 Axes>"
      ]
     },
     "metadata": {},
     "output_type": "display_data"
    }
   ],
   "source": [
    "figure, ax1 = plt.subplots(figsize=(5,30))\n",
    "ax1 = df_Calories.plot(kind='pie',y=\"Count\",ax=ax1,labels=df_Calories[\"Name\"].tolist(),autopct='%1.1f%%',fontsize=9)\n",
    "ax1.set_title(\"Percentag of Calories\")\n",
    "ax1.yaxis.set_visible(False)\n",
    "ax1.get_legend().remove()\n",
    "\n",
    "df_Calories"
   ]
  },
  {
   "cell_type": "code",
   "execution_count": 17,
   "metadata": {
    "scrolled": true
   },
   "outputs": [
    {
     "name": "stderr",
     "output_type": "stream",
     "text": [
      "<ipython-input-17-c6953c039b24>:1: SettingWithCopyWarning: \n",
      "A value is trying to be set on a copy of a slice from a DataFrame\n",
      "\n",
      "See the caveats in the documentation: https://pandas.pydata.org/pandas-docs/stable/user_guide/indexing.html#returning-a-view-versus-a-copy\n",
      "  df_Calories['Number of Reviews'][0]=df_CleanTable.loc[df_CleanTable['Calories per serving'] <=150,\"Rank number\"].sum()\n",
      "<ipython-input-17-c6953c039b24>:2: SettingWithCopyWarning: \n",
      "A value is trying to be set on a copy of a slice from a DataFrame\n",
      "\n",
      "See the caveats in the documentation: https://pandas.pydata.org/pandas-docs/stable/user_guide/indexing.html#returning-a-view-versus-a-copy\n",
      "  df_Calories['Number of Reviews'][1]=df_CleanTable.loc[(df_CleanTable['Calories per serving'] > 150) & (df_CleanTable['Calories per serving'] < 600),\"Rank number\"].sum()\n",
      "<ipython-input-17-c6953c039b24>:3: SettingWithCopyWarning: \n",
      "A value is trying to be set on a copy of a slice from a DataFrame\n",
      "\n",
      "See the caveats in the documentation: https://pandas.pydata.org/pandas-docs/stable/user_guide/indexing.html#returning-a-view-versus-a-copy\n",
      "  df_Calories['Number of Reviews'][2]=df_CleanTable.loc[(df_CleanTable['Calories per serving'] >= 600),\"Rank number\"].sum()\n"
     ]
    }
   ],
   "source": [
    "df_Calories['Number of Reviews'][0]=df_CleanTable.loc[df_CleanTable['Calories per serving'] <=150,\"Rank number\"].sum()\n",
    "df_Calories['Number of Reviews'][1]=df_CleanTable.loc[(df_CleanTable['Calories per serving'] > 150) & (df_CleanTable['Calories per serving'] < 600),\"Rank number\"].sum()\n",
    "df_Calories['Number of Reviews'][2]=df_CleanTable.loc[(df_CleanTable['Calories per serving'] >= 600),\"Rank number\"].sum()"
   ]
  },
  {
   "cell_type": "code",
   "execution_count": 18,
   "metadata": {},
   "outputs": [
    {
     "data": {
      "image/png": "[encoded data removed]",
      "text/plain": [
       "<Figure size 504x504 with 1 Axes>"
      ]
     },
     "metadata": {
      "needs_background": "light"
     },
     "output_type": "display_data"
    }
   ],
   "source": [
    "df_Calories[\"AVG Review\"]=df_Calories[\"Number of Reviews\"]/df_Calories[\"Count\"]\n",
    "ax = df_Calories.plot.bar(x='Name', y='AVG Review', rot=0,figsize=(7,7))"
   ]
  },
  {
   "cell_type": "code",
   "execution_count": 19,
   "metadata": {},
   "outputs": [
    {
     "data": {
      "image/png": "[encoded data removed]",
      "text/plain": [
       "<Figure size 504x504 with 1 Axes>"
      ]
     },
     "metadata": {
      "needs_background": "light"
     },
     "output_type": "display_data"
    }
   ],
   "source": [
    "df_Category[\"AVG Review\"]=df_Category[\"Total Rating\"]/df_Category[\"Counts\"]\n",
    "ax = df_Category.nlargest(5,\"AVG Review\").plot.bar(x='Category', y='AVG Review', rot=0,figsize=(7,7))"
   ]
  }
 ],
 "metadata": {
  "kernelspec": {
   "display_name": "Python 3",
   "language": "python",
   "name": "python3"
  },
  "language_info": {
   "codemirror_mode": {
    "name": "ipython",
    "version": 3
   },
   "file_extension": ".py",
   "mimetype": "text/x-python",
   "name": "python",
   "nbconvert_exporter": "python",
   "pygments_lexer": "ipython3",
   "version": "3.8.5"
  }
 },
 "nbformat": 4,
 "nbformat_minor": 4
}
